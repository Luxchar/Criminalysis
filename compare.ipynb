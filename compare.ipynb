{
 "cells": [
  {
   "cell_type": "code",
   "execution_count": 35,
   "metadata": {},
   "outputs": [],
   "source": [
    "import pandas as pd\n",
    "import numpy as np"
   ]
  },
  {
   "cell_type": "markdown",
   "metadata": {},
   "source": [
    "HEAD OF THE STANFORD DATAFRAME"
   ]
  },
  {
   "cell_type": "code",
   "execution_count": 36,
   "metadata": {},
   "outputs": [
    {
     "name": "stderr",
     "output_type": "stream",
     "text": [
      "C:\\Users\\Theo Boucebaine\\AppData\\Local\\Temp\\ipykernel_1972\\1979163790.py:1: DtypeWarning: Columns (16,19,24) have mixed types. Specify dtype option on import or set low_memory=False.\n",
      "  df_stan = pd.read_csv('./data/TX_2010_onwards.csv')\n"
     ]
    },
    {
     "data": {
      "text/html": [
       "<div>\n",
       "<style scoped>\n",
       "    .dataframe tbody tr th:only-of-type {\n",
       "        vertical-align: middle;\n",
       "    }\n",
       "\n",
       "    .dataframe tbody tr th {\n",
       "        vertical-align: top;\n",
       "    }\n",
       "\n",
       "    .dataframe thead th {\n",
       "        text-align: right;\n",
       "    }\n",
       "</style>\n",
       "<table border=\"1\" class=\"dataframe\">\n",
       "  <thead>\n",
       "    <tr style=\"text-align: right;\">\n",
       "      <th></th>\n",
       "      <th>id</th>\n",
       "      <th>state</th>\n",
       "      <th>stop_date</th>\n",
       "      <th>stop_time</th>\n",
       "      <th>location_raw</th>\n",
       "      <th>county_name</th>\n",
       "      <th>county_fips</th>\n",
       "      <th>fine_grained_location</th>\n",
       "      <th>police_department</th>\n",
       "      <th>driver_gender</th>\n",
       "      <th>...</th>\n",
       "      <th>search_conducted</th>\n",
       "      <th>search_type_raw</th>\n",
       "      <th>search_type</th>\n",
       "      <th>contraband_found</th>\n",
       "      <th>stop_outcome</th>\n",
       "      <th>is_arrested</th>\n",
       "      <th>lat</th>\n",
       "      <th>lon</th>\n",
       "      <th>officer_id</th>\n",
       "      <th>driver_race_original</th>\n",
       "    </tr>\n",
       "  </thead>\n",
       "  <tbody>\n",
       "    <tr>\n",
       "      <th>0</th>\n",
       "      <td>TX-2010-0000002</td>\n",
       "      <td>TX</td>\n",
       "      <td>2010-01-01</td>\n",
       "      <td>00:00</td>\n",
       "      <td>Guadalupe</td>\n",
       "      <td>Guadalupe County</td>\n",
       "      <td>48187.0</td>\n",
       "      <td>622.0</td>\n",
       "      <td>NaN</td>\n",
       "      <td>F</td>\n",
       "      <td>...</td>\n",
       "      <td>False</td>\n",
       "      <td>NaN</td>\n",
       "      <td>NaN</td>\n",
       "      <td>False</td>\n",
       "      <td>Warning</td>\n",
       "      <td>NaN</td>\n",
       "      <td>29.622867</td>\n",
       "      <td>-97.778663</td>\n",
       "      <td>11524</td>\n",
       "      <td>Asian</td>\n",
       "    </tr>\n",
       "    <tr>\n",
       "      <th>1</th>\n",
       "      <td>TX-2010-0000003</td>\n",
       "      <td>TX</td>\n",
       "      <td>2010-01-01</td>\n",
       "      <td>00:00</td>\n",
       "      <td>Fannin</td>\n",
       "      <td>Fannin County</td>\n",
       "      <td>48147.0</td>\n",
       "      <td>668.0</td>\n",
       "      <td>NaN</td>\n",
       "      <td>F</td>\n",
       "      <td>...</td>\n",
       "      <td>False</td>\n",
       "      <td>NaN</td>\n",
       "      <td>NaN</td>\n",
       "      <td>False</td>\n",
       "      <td>Warning</td>\n",
       "      <td>NaN</td>\n",
       "      <td>33.603183</td>\n",
       "      <td>-96.150215</td>\n",
       "      <td>12274</td>\n",
       "      <td>White</td>\n",
       "    </tr>\n",
       "    <tr>\n",
       "      <th>2</th>\n",
       "      <td>TX-2010-0000004</td>\n",
       "      <td>TX</td>\n",
       "      <td>2010-01-01</td>\n",
       "      <td>00:00</td>\n",
       "      <td>Coryell</td>\n",
       "      <td>Coryell County</td>\n",
       "      <td>48099.0</td>\n",
       "      <td>560.0</td>\n",
       "      <td>NaN</td>\n",
       "      <td>M</td>\n",
       "      <td>...</td>\n",
       "      <td>False</td>\n",
       "      <td>NaN</td>\n",
       "      <td>NaN</td>\n",
       "      <td>False</td>\n",
       "      <td>Citation</td>\n",
       "      <td>NaN</td>\n",
       "      <td>31.121599</td>\n",
       "      <td>-97.835418</td>\n",
       "      <td>12365</td>\n",
       "      <td>Black</td>\n",
       "    </tr>\n",
       "    <tr>\n",
       "      <th>3</th>\n",
       "      <td>TX-2010-0000005</td>\n",
       "      <td>TX</td>\n",
       "      <td>2010-01-01</td>\n",
       "      <td>00:00</td>\n",
       "      <td>Dallas</td>\n",
       "      <td>Dallas County</td>\n",
       "      <td>48113.0</td>\n",
       "      <td>464.0</td>\n",
       "      <td>NaN</td>\n",
       "      <td>M</td>\n",
       "      <td>...</td>\n",
       "      <td>False</td>\n",
       "      <td>NaN</td>\n",
       "      <td>NaN</td>\n",
       "      <td>False</td>\n",
       "      <td>Citation</td>\n",
       "      <td>NaN</td>\n",
       "      <td>NaN</td>\n",
       "      <td>NaN</td>\n",
       "      <td>10795</td>\n",
       "      <td>Black</td>\n",
       "    </tr>\n",
       "    <tr>\n",
       "      <th>4</th>\n",
       "      <td>TX-2010-0000006</td>\n",
       "      <td>TX</td>\n",
       "      <td>2010-01-01</td>\n",
       "      <td>00:00</td>\n",
       "      <td>Denton</td>\n",
       "      <td>Denton County</td>\n",
       "      <td>48121.0</td>\n",
       "      <td>0.0</td>\n",
       "      <td>NaN</td>\n",
       "      <td>M</td>\n",
       "      <td>...</td>\n",
       "      <td>False</td>\n",
       "      <td>NaN</td>\n",
       "      <td>NaN</td>\n",
       "      <td>False</td>\n",
       "      <td>Citation</td>\n",
       "      <td>NaN</td>\n",
       "      <td>NaN</td>\n",
       "      <td>NaN</td>\n",
       "      <td>12571</td>\n",
       "      <td>White</td>\n",
       "    </tr>\n",
       "  </tbody>\n",
       "</table>\n",
       "<p>5 rows × 26 columns</p>\n",
       "</div>"
      ],
      "text/plain": [
       "                id state   stop_date stop_time location_raw       county_name  \\\n",
       "0  TX-2010-0000002    TX  2010-01-01     00:00    Guadalupe  Guadalupe County   \n",
       "1  TX-2010-0000003    TX  2010-01-01     00:00       Fannin     Fannin County   \n",
       "2  TX-2010-0000004    TX  2010-01-01     00:00      Coryell    Coryell County   \n",
       "3  TX-2010-0000005    TX  2010-01-01     00:00       Dallas     Dallas County   \n",
       "4  TX-2010-0000006    TX  2010-01-01     00:00       Denton     Denton County   \n",
       "\n",
       "   county_fips  fine_grained_location  police_department driver_gender  ...  \\\n",
       "0      48187.0                  622.0                NaN             F  ...   \n",
       "1      48147.0                  668.0                NaN             F  ...   \n",
       "2      48099.0                  560.0                NaN             M  ...   \n",
       "3      48113.0                  464.0                NaN             M  ...   \n",
       "4      48121.0                    0.0                NaN             M  ...   \n",
       "\n",
       "   search_conducted  search_type_raw search_type contraband_found  \\\n",
       "0             False              NaN         NaN            False   \n",
       "1             False              NaN         NaN            False   \n",
       "2             False              NaN         NaN            False   \n",
       "3             False              NaN         NaN            False   \n",
       "4             False              NaN         NaN            False   \n",
       "\n",
       "  stop_outcome is_arrested        lat        lon officer_id  \\\n",
       "0      Warning         NaN  29.622867 -97.778663      11524   \n",
       "1      Warning         NaN  33.603183 -96.150215      12274   \n",
       "2     Citation         NaN  31.121599 -97.835418      12365   \n",
       "3     Citation         NaN        NaN        NaN      10795   \n",
       "4     Citation         NaN        NaN        NaN      12571   \n",
       "\n",
       "  driver_race_original  \n",
       "0                Asian  \n",
       "1                White  \n",
       "2                Black  \n",
       "3                Black  \n",
       "4                White  \n",
       "\n",
       "[5 rows x 26 columns]"
      ]
     },
     "execution_count": 36,
     "metadata": {},
     "output_type": "execute_result"
    }
   ],
   "source": [
    "df_stan = pd.read_csv('./data/TX_2010_onwards.csv')\n",
    "df_stan.head()"
   ]
  },
  {
   "cell_type": "markdown",
   "metadata": {},
   "source": [
    "HEAD OF THE STATEWIDE DATAFRAME"
   ]
  },
  {
   "cell_type": "code",
   "execution_count": 37,
   "metadata": {},
   "outputs": [
    {
     "name": "stderr",
     "output_type": "stream",
     "text": [
      "C:\\Users\\Theo Boucebaine\\AppData\\Local\\Temp\\ipykernel_1972\\377773163.py:1: DtypeWarning: Columns (8,15,16,21,24,25,26,30,31,32,33) have mixed types. Specify dtype option on import or set low_memory=False.\n",
      "  df_statewide = pd.read_csv('./data/tx_statewide_2020_04_01.csv')\n"
     ]
    },
    {
     "data": {
      "text/html": [
       "<div>\n",
       "<style scoped>\n",
       "    .dataframe tbody tr th:only-of-type {\n",
       "        vertical-align: middle;\n",
       "    }\n",
       "\n",
       "    .dataframe tbody tr th {\n",
       "        vertical-align: top;\n",
       "    }\n",
       "\n",
       "    .dataframe thead th {\n",
       "        text-align: right;\n",
       "    }\n",
       "</style>\n",
       "<table border=\"1\" class=\"dataframe\">\n",
       "  <thead>\n",
       "    <tr style=\"text-align: right;\">\n",
       "      <th></th>\n",
       "      <th>raw_row_number</th>\n",
       "      <th>date</th>\n",
       "      <th>time</th>\n",
       "      <th>location</th>\n",
       "      <th>lat</th>\n",
       "      <th>lng</th>\n",
       "      <th>county_name</th>\n",
       "      <th>district</th>\n",
       "      <th>precinct</th>\n",
       "      <th>region</th>\n",
       "      <th>...</th>\n",
       "      <th>vehicle_color</th>\n",
       "      <th>vehicle_make</th>\n",
       "      <th>vehicle_model</th>\n",
       "      <th>vehicle_type</th>\n",
       "      <th>vehicle_year</th>\n",
       "      <th>raw_HA_RACE_SEX</th>\n",
       "      <th>raw_HA_SEARCH_PC_boolean</th>\n",
       "      <th>raw_HA_SEARCH_CONCENT_boolean</th>\n",
       "      <th>raw_HA_INCIDTO_ARREST_boolean</th>\n",
       "      <th>raw_HA_VEHICLE_INVENT_boolean</th>\n",
       "    </tr>\n",
       "  </thead>\n",
       "  <tbody>\n",
       "    <tr>\n",
       "      <th>0</th>\n",
       "      <td>1</td>\n",
       "      <td>2006-01-01</td>\n",
       "      <td>00:00:00</td>\n",
       "      <td>route: 0030, milepost: 674</td>\n",
       "      <td>NaN</td>\n",
       "      <td>NaN</td>\n",
       "      <td>Walker County</td>\n",
       "      <td>C</td>\n",
       "      <td>NaN</td>\n",
       "      <td>2</td>\n",
       "      <td>...</td>\n",
       "      <td>NaN</td>\n",
       "      <td>NaN</td>\n",
       "      <td>NaN</td>\n",
       "      <td>PA</td>\n",
       "      <td>NaN</td>\n",
       "      <td>WF</td>\n",
       "      <td>False</td>\n",
       "      <td>False</td>\n",
       "      <td>False</td>\n",
       "      <td>False</td>\n",
       "    </tr>\n",
       "    <tr>\n",
       "      <th>1</th>\n",
       "      <td>2</td>\n",
       "      <td>2006-01-01</td>\n",
       "      <td>00:00:00</td>\n",
       "      <td>route: 0207, milepost: 50</td>\n",
       "      <td>NaN</td>\n",
       "      <td>NaN</td>\n",
       "      <td>Hansford County</td>\n",
       "      <td>B</td>\n",
       "      <td>11.0</td>\n",
       "      <td>5</td>\n",
       "      <td>...</td>\n",
       "      <td>NaN</td>\n",
       "      <td>NaN</td>\n",
       "      <td>NaN</td>\n",
       "      <td>PA</td>\n",
       "      <td>NaN</td>\n",
       "      <td>WM</td>\n",
       "      <td>False</td>\n",
       "      <td>False</td>\n",
       "      <td>False</td>\n",
       "      <td>False</td>\n",
       "    </tr>\n",
       "    <tr>\n",
       "      <th>2</th>\n",
       "      <td>3</td>\n",
       "      <td>2006-01-01</td>\n",
       "      <td>00:00:00</td>\n",
       "      <td>route: 0105, milepost: 700</td>\n",
       "      <td>NaN</td>\n",
       "      <td>NaN</td>\n",
       "      <td>Montgomery County</td>\n",
       "      <td>C</td>\n",
       "      <td>20.0</td>\n",
       "      <td>2</td>\n",
       "      <td>...</td>\n",
       "      <td>NaN</td>\n",
       "      <td>NaN</td>\n",
       "      <td>NaN</td>\n",
       "      <td>SV</td>\n",
       "      <td>NaN</td>\n",
       "      <td>HM</td>\n",
       "      <td>True</td>\n",
       "      <td>False</td>\n",
       "      <td>False</td>\n",
       "      <td>False</td>\n",
       "    </tr>\n",
       "    <tr>\n",
       "      <th>3</th>\n",
       "      <td>4</td>\n",
       "      <td>2006-01-01</td>\n",
       "      <td>00:00:00</td>\n",
       "      <td>route: 0010, milepost: 819</td>\n",
       "      <td>NaN</td>\n",
       "      <td>NaN</td>\n",
       "      <td>Chambers County</td>\n",
       "      <td>B</td>\n",
       "      <td>NaN</td>\n",
       "      <td>2</td>\n",
       "      <td>...</td>\n",
       "      <td>NaN</td>\n",
       "      <td>NaN</td>\n",
       "      <td>NaN</td>\n",
       "      <td>SV</td>\n",
       "      <td>NaN</td>\n",
       "      <td>WM</td>\n",
       "      <td>False</td>\n",
       "      <td>False</td>\n",
       "      <td>False</td>\n",
       "      <td>False</td>\n",
       "    </tr>\n",
       "    <tr>\n",
       "      <th>4</th>\n",
       "      <td>5</td>\n",
       "      <td>2006-01-01</td>\n",
       "      <td>00:00:00</td>\n",
       "      <td>route: 1774, milepost: 456</td>\n",
       "      <td>NaN</td>\n",
       "      <td>NaN</td>\n",
       "      <td>Montgomery County</td>\n",
       "      <td>C</td>\n",
       "      <td>50.0</td>\n",
       "      <td>2</td>\n",
       "      <td>...</td>\n",
       "      <td>NaN</td>\n",
       "      <td>NaN</td>\n",
       "      <td>NaN</td>\n",
       "      <td>PA</td>\n",
       "      <td>NaN</td>\n",
       "      <td>WM</td>\n",
       "      <td>True</td>\n",
       "      <td>False</td>\n",
       "      <td>False</td>\n",
       "      <td>False</td>\n",
       "    </tr>\n",
       "  </tbody>\n",
       "</table>\n",
       "<p>5 rows × 34 columns</p>\n",
       "</div>"
      ],
      "text/plain": [
       "   raw_row_number        date      time                    location  lat  lng  \\\n",
       "0               1  2006-01-01  00:00:00  route: 0030, milepost: 674  NaN  NaN   \n",
       "1               2  2006-01-01  00:00:00   route: 0207, milepost: 50  NaN  NaN   \n",
       "2               3  2006-01-01  00:00:00  route: 0105, milepost: 700  NaN  NaN   \n",
       "3               4  2006-01-01  00:00:00  route: 0010, milepost: 819  NaN  NaN   \n",
       "4               5  2006-01-01  00:00:00  route: 1774, milepost: 456  NaN  NaN   \n",
       "\n",
       "         county_name district precinct  region  ... vehicle_color  \\\n",
       "0      Walker County        C      NaN       2  ...           NaN   \n",
       "1    Hansford County        B     11.0       5  ...           NaN   \n",
       "2  Montgomery County        C     20.0       2  ...           NaN   \n",
       "3    Chambers County        B      NaN       2  ...           NaN   \n",
       "4  Montgomery County        C     50.0       2  ...           NaN   \n",
       "\n",
       "  vehicle_make vehicle_model vehicle_type vehicle_year raw_HA_RACE_SEX  \\\n",
       "0          NaN           NaN           PA          NaN              WF   \n",
       "1          NaN           NaN           PA          NaN              WM   \n",
       "2          NaN           NaN           SV          NaN              HM   \n",
       "3          NaN           NaN           SV          NaN              WM   \n",
       "4          NaN           NaN           PA          NaN              WM   \n",
       "\n",
       "  raw_HA_SEARCH_PC_boolean raw_HA_SEARCH_CONCENT_boolean  \\\n",
       "0                    False                         False   \n",
       "1                    False                         False   \n",
       "2                     True                         False   \n",
       "3                    False                         False   \n",
       "4                     True                         False   \n",
       "\n",
       "  raw_HA_INCIDTO_ARREST_boolean raw_HA_VEHICLE_INVENT_boolean  \n",
       "0                         False                         False  \n",
       "1                         False                         False  \n",
       "2                         False                         False  \n",
       "3                         False                         False  \n",
       "4                         False                         False  \n",
       "\n",
       "[5 rows x 34 columns]"
      ]
     },
     "execution_count": 37,
     "metadata": {},
     "output_type": "execute_result"
    }
   ],
   "source": [
    "df_statewide = pd.read_csv('./data/tx_statewide_2020_04_01.csv')\n",
    "df_statewide.head()"
   ]
  },
  {
   "cell_type": "code",
   "execution_count": 38,
   "metadata": {},
   "outputs": [
    {
     "data": {
      "text/plain": [
       "(13307918, 19752786)"
      ]
     },
     "execution_count": 38,
     "metadata": {},
     "output_type": "execute_result"
    }
   ],
   "source": [
    "len(df_stan), len(df_statewide)"
   ]
  },
  {
   "cell_type": "markdown",
   "metadata": {},
   "source": [
    "COLUMN NAME OF THE STANFORD DATAFRAME"
   ]
  },
  {
   "cell_type": "code",
   "execution_count": 39,
   "metadata": {},
   "outputs": [
    {
     "data": {
      "text/plain": [
       "Index(['id', 'state', 'stop_date', 'stop_time', 'location_raw', 'county_name',\n",
       "       'county_fips', 'fine_grained_location', 'police_department',\n",
       "       'driver_gender', 'driver_age_raw', 'driver_age', 'driver_race_raw',\n",
       "       'driver_race', 'violation_raw', 'violation', 'search_conducted',\n",
       "       'search_type_raw', 'search_type', 'contraband_found', 'stop_outcome',\n",
       "       'is_arrested', 'lat', 'lon', 'officer_id', 'driver_race_original'],\n",
       "      dtype='object')"
      ]
     },
     "execution_count": 39,
     "metadata": {},
     "output_type": "execute_result"
    }
   ],
   "source": [
    "df_stan.columns"
   ]
  },
  {
   "cell_type": "markdown",
   "metadata": {},
   "source": [
    "COLUMN NAME OF STATEWIDE"
   ]
  },
  {
   "cell_type": "code",
   "execution_count": 40,
   "metadata": {},
   "outputs": [
    {
     "data": {
      "text/plain": [
       "Index(['raw_row_number', 'date', 'time', 'location', 'lat', 'lng',\n",
       "       'county_name', 'district', 'precinct', 'region', 'subject_race',\n",
       "       'subject_sex', 'officer_id_hash', 'type', 'violation',\n",
       "       'citation_issued', 'warning_issued', 'outcome', 'contraband_found',\n",
       "       'contraband_drugs', 'contraband_weapons', 'search_conducted',\n",
       "       'search_vehicle', 'search_basis', 'vehicle_color', 'vehicle_make',\n",
       "       'vehicle_model', 'vehicle_type', 'vehicle_year', 'raw_HA_RACE_SEX',\n",
       "       'raw_HA_SEARCH_PC_boolean', 'raw_HA_SEARCH_CONCENT_boolean',\n",
       "       'raw_HA_INCIDTO_ARREST_boolean', 'raw_HA_VEHICLE_INVENT_boolean'],\n",
       "      dtype='object')"
      ]
     },
     "execution_count": 40,
     "metadata": {},
     "output_type": "execute_result"
    }
   ],
   "source": [
    "df_statewide.columns"
   ]
  },
  {
   "cell_type": "markdown",
   "metadata": {},
   "source": [
    "DIFFERENCE BETWEEN TWO DATAFRAMES"
   ]
  },
  {
   "cell_type": "code",
   "execution_count": 41,
   "metadata": {},
   "outputs": [
    {
     "data": {
      "text/plain": [
       "Index(['county_fips', 'driver_age', 'driver_age_raw', 'driver_gender',\n",
       "       'driver_race', 'driver_race_original', 'driver_race_raw',\n",
       "       'fine_grained_location', 'id', 'is_arrested', 'location_raw', 'lon',\n",
       "       'officer_id', 'police_department', 'search_type', 'search_type_raw',\n",
       "       'state', 'stop_date', 'stop_outcome', 'stop_time', 'violation_raw'],\n",
       "      dtype='object')"
      ]
     },
     "execution_count": 41,
     "metadata": {},
     "output_type": "execute_result"
    }
   ],
   "source": [
    "df_stan.columns.difference(df_statewide.columns)"
   ]
  },
  {
   "cell_type": "code",
   "execution_count": 42,
   "metadata": {},
   "outputs": [
    {
     "data": {
      "text/plain": [
       "Index(['county_name', 'violation', 'search_conducted', 'contraband_found',\n",
       "       'lat'],\n",
       "      dtype='object')"
      ]
     },
     "execution_count": 42,
     "metadata": {},
     "output_type": "execute_result"
    }
   ],
   "source": [
    "df_stan.columns.intersection(df_statewide.columns)"
   ]
  },
  {
   "cell_type": "code",
   "execution_count": 43,
   "metadata": {},
   "outputs": [
    {
     "data": {
      "text/html": [
       "<div>\n",
       "<style scoped>\n",
       "    .dataframe tbody tr th:only-of-type {\n",
       "        vertical-align: middle;\n",
       "    }\n",
       "\n",
       "    .dataframe tbody tr th {\n",
       "        vertical-align: top;\n",
       "    }\n",
       "\n",
       "    .dataframe thead th {\n",
       "        text-align: right;\n",
       "    }\n",
       "</style>\n",
       "<table border=\"1\" class=\"dataframe\">\n",
       "  <thead>\n",
       "    <tr style=\"text-align: right;\">\n",
       "      <th></th>\n",
       "      <th>county_fips</th>\n",
       "      <th>fine_grained_location</th>\n",
       "      <th>police_department</th>\n",
       "      <th>driver_age_raw</th>\n",
       "      <th>driver_age</th>\n",
       "      <th>is_arrested</th>\n",
       "      <th>lat</th>\n",
       "      <th>lon</th>\n",
       "    </tr>\n",
       "  </thead>\n",
       "  <tbody>\n",
       "    <tr>\n",
       "      <th>count</th>\n",
       "      <td>1.330782e+07</td>\n",
       "      <td>1.330773e+07</td>\n",
       "      <td>0.0</td>\n",
       "      <td>0.0</td>\n",
       "      <td>0.0</td>\n",
       "      <td>0.0</td>\n",
       "      <td>1.113111e+07</td>\n",
       "      <td>1.113154e+07</td>\n",
       "    </tr>\n",
       "    <tr>\n",
       "      <th>mean</th>\n",
       "      <td>4.825221e+04</td>\n",
       "      <td>4.210819e+02</td>\n",
       "      <td>NaN</td>\n",
       "      <td>NaN</td>\n",
       "      <td>NaN</td>\n",
       "      <td>NaN</td>\n",
       "      <td>3.094612e+01</td>\n",
       "      <td>-9.777938e+01</td>\n",
       "    </tr>\n",
       "    <tr>\n",
       "      <th>std</th>\n",
       "      <td>1.474057e+02</td>\n",
       "      <td>2.572111e+02</td>\n",
       "      <td>NaN</td>\n",
       "      <td>NaN</td>\n",
       "      <td>NaN</td>\n",
       "      <td>NaN</td>\n",
       "      <td>2.237530e+00</td>\n",
       "      <td>2.595548e+00</td>\n",
       "    </tr>\n",
       "    <tr>\n",
       "      <th>min</th>\n",
       "      <td>4.800100e+04</td>\n",
       "      <td>0.000000e+00</td>\n",
       "      <td>NaN</td>\n",
       "      <td>NaN</td>\n",
       "      <td>NaN</td>\n",
       "      <td>NaN</td>\n",
       "      <td>2.106813e+01</td>\n",
       "      <td>-1.250619e+02</td>\n",
       "    </tr>\n",
       "    <tr>\n",
       "      <th>25%</th>\n",
       "      <td>4.813300e+04</td>\n",
       "      <td>2.380000e+02</td>\n",
       "      <td>NaN</td>\n",
       "      <td>NaN</td>\n",
       "      <td>NaN</td>\n",
       "      <td>NaN</td>\n",
       "      <td>2.966318e+01</td>\n",
       "      <td>-9.890137e+01</td>\n",
       "    </tr>\n",
       "    <tr>\n",
       "      <th>50%</th>\n",
       "      <td>4.823100e+04</td>\n",
       "      <td>4.420000e+02</td>\n",
       "      <td>NaN</td>\n",
       "      <td>NaN</td>\n",
       "      <td>NaN</td>\n",
       "      <td>NaN</td>\n",
       "      <td>3.097558e+01</td>\n",
       "      <td>-9.757165e+01</td>\n",
       "    </tr>\n",
       "    <tr>\n",
       "      <th>75%</th>\n",
       "      <td>4.837300e+04</td>\n",
       "      <td>6.160000e+02</td>\n",
       "      <td>NaN</td>\n",
       "      <td>NaN</td>\n",
       "      <td>NaN</td>\n",
       "      <td>NaN</td>\n",
       "      <td>3.257902e+01</td>\n",
       "      <td>-9.568338e+01</td>\n",
       "    </tr>\n",
       "    <tr>\n",
       "      <th>max</th>\n",
       "      <td>4.850700e+04</td>\n",
       "      <td>9.999000e+03</td>\n",
       "      <td>NaN</td>\n",
       "      <td>NaN</td>\n",
       "      <td>NaN</td>\n",
       "      <td>NaN</td>\n",
       "      <td>7.631857e+01</td>\n",
       "      <td>-4.477363e+01</td>\n",
       "    </tr>\n",
       "  </tbody>\n",
       "</table>\n",
       "</div>"
      ],
      "text/plain": [
       "        county_fips  fine_grained_location  police_department  driver_age_raw  \\\n",
       "count  1.330782e+07           1.330773e+07                0.0             0.0   \n",
       "mean   4.825221e+04           4.210819e+02                NaN             NaN   \n",
       "std    1.474057e+02           2.572111e+02                NaN             NaN   \n",
       "min    4.800100e+04           0.000000e+00                NaN             NaN   \n",
       "25%    4.813300e+04           2.380000e+02                NaN             NaN   \n",
       "50%    4.823100e+04           4.420000e+02                NaN             NaN   \n",
       "75%    4.837300e+04           6.160000e+02                NaN             NaN   \n",
       "max    4.850700e+04           9.999000e+03                NaN             NaN   \n",
       "\n",
       "       driver_age  is_arrested           lat           lon  \n",
       "count         0.0          0.0  1.113111e+07  1.113154e+07  \n",
       "mean          NaN          NaN  3.094612e+01 -9.777938e+01  \n",
       "std           NaN          NaN  2.237530e+00  2.595548e+00  \n",
       "min           NaN          NaN  2.106813e+01 -1.250619e+02  \n",
       "25%           NaN          NaN  2.966318e+01 -9.890137e+01  \n",
       "50%           NaN          NaN  3.097558e+01 -9.757165e+01  \n",
       "75%           NaN          NaN  3.257902e+01 -9.568338e+01  \n",
       "max           NaN          NaN  7.631857e+01 -4.477363e+01  "
      ]
     },
     "execution_count": 43,
     "metadata": {},
     "output_type": "execute_result"
    }
   ],
   "source": [
    "df_stan.describe()"
   ]
  },
  {
   "cell_type": "code",
   "execution_count": 44,
   "metadata": {},
   "outputs": [
    {
     "data": {
      "text/html": [
       "<div>\n",
       "<style scoped>\n",
       "    .dataframe tbody tr th:only-of-type {\n",
       "        vertical-align: middle;\n",
       "    }\n",
       "\n",
       "    .dataframe tbody tr th {\n",
       "        vertical-align: top;\n",
       "    }\n",
       "\n",
       "    .dataframe thead th {\n",
       "        text-align: right;\n",
       "    }\n",
       "</style>\n",
       "<table border=\"1\" class=\"dataframe\">\n",
       "  <thead>\n",
       "    <tr style=\"text-align: right;\">\n",
       "      <th></th>\n",
       "      <th>raw_row_number</th>\n",
       "      <th>lat</th>\n",
       "      <th>lng</th>\n",
       "      <th>region</th>\n",
       "      <th>vehicle_year</th>\n",
       "    </tr>\n",
       "  </thead>\n",
       "  <tbody>\n",
       "    <tr>\n",
       "      <th>count</th>\n",
       "      <td>1.975279e+07</td>\n",
       "      <td>1.160043e+07</td>\n",
       "      <td>1.160050e+07</td>\n",
       "      <td>1.975279e+07</td>\n",
       "      <td>1.083178e+07</td>\n",
       "    </tr>\n",
       "    <tr>\n",
       "      <th>mean</th>\n",
       "      <td>1.008828e+07</td>\n",
       "      <td>3.104260e+01</td>\n",
       "      <td>-9.789243e+01</td>\n",
       "      <td>3.548015e+00</td>\n",
       "      <td>2.004307e+03</td>\n",
       "    </tr>\n",
       "    <tr>\n",
       "      <th>std</th>\n",
       "      <td>5.804262e+06</td>\n",
       "      <td>2.241375e+00</td>\n",
       "      <td>2.637179e+00</td>\n",
       "      <td>2.031648e+00</td>\n",
       "      <td>4.026977e+01</td>\n",
       "    </tr>\n",
       "    <tr>\n",
       "      <th>min</th>\n",
       "      <td>1.000000e+00</td>\n",
       "      <td>1.588400e+00</td>\n",
       "      <td>-1.291370e+02</td>\n",
       "      <td>0.000000e+00</td>\n",
       "      <td>1.800000e+03</td>\n",
       "    </tr>\n",
       "    <tr>\n",
       "      <th>25%</th>\n",
       "      <td>5.072521e+06</td>\n",
       "      <td>2.968938e+01</td>\n",
       "      <td>-9.911253e+01</td>\n",
       "      <td>2.000000e+00</td>\n",
       "      <td>2.001000e+03</td>\n",
       "    </tr>\n",
       "    <tr>\n",
       "      <th>50%</th>\n",
       "      <td>1.009947e+07</td>\n",
       "      <td>3.110210e+01</td>\n",
       "      <td>-9.761571e+01</td>\n",
       "      <td>3.000000e+00</td>\n",
       "      <td>2.005000e+03</td>\n",
       "    </tr>\n",
       "    <tr>\n",
       "      <th>75%</th>\n",
       "      <td>1.511658e+07</td>\n",
       "      <td>3.270040e+01</td>\n",
       "      <td>-9.577772e+01</td>\n",
       "      <td>5.000000e+00</td>\n",
       "      <td>2.008000e+03</td>\n",
       "    </tr>\n",
       "    <tr>\n",
       "      <th>max</th>\n",
       "      <td>2.011704e+07</td>\n",
       "      <td>7.631857e+01</td>\n",
       "      <td>-2.451870e+01</td>\n",
       "      <td>9.000000e+00</td>\n",
       "      <td>1.199800e+04</td>\n",
       "    </tr>\n",
       "  </tbody>\n",
       "</table>\n",
       "</div>"
      ],
      "text/plain": [
       "       raw_row_number           lat           lng        region  vehicle_year\n",
       "count    1.975279e+07  1.160043e+07  1.160050e+07  1.975279e+07  1.083178e+07\n",
       "mean     1.008828e+07  3.104260e+01 -9.789243e+01  3.548015e+00  2.004307e+03\n",
       "std      5.804262e+06  2.241375e+00  2.637179e+00  2.031648e+00  4.026977e+01\n",
       "min      1.000000e+00  1.588400e+00 -1.291370e+02  0.000000e+00  1.800000e+03\n",
       "25%      5.072521e+06  2.968938e+01 -9.911253e+01  2.000000e+00  2.001000e+03\n",
       "50%      1.009947e+07  3.110210e+01 -9.761571e+01  3.000000e+00  2.005000e+03\n",
       "75%      1.511658e+07  3.270040e+01 -9.577772e+01  5.000000e+00  2.008000e+03\n",
       "max      2.011704e+07  7.631857e+01 -2.451870e+01  9.000000e+00  1.199800e+04"
      ]
     },
     "execution_count": 44,
     "metadata": {},
     "output_type": "execute_result"
    }
   ],
   "source": [
    "df_statewide.describe()"
   ]
  },
  {
   "cell_type": "markdown",
   "metadata": {},
   "source": [
    "NAN VALUES"
   ]
  },
  {
   "cell_type": "code",
   "execution_count": 45,
   "metadata": {},
   "outputs": [
    {
     "data": {
      "text/plain": [
       "id                              0\n",
       "state                           0\n",
       "stop_date                       0\n",
       "stop_time                       0\n",
       "location_raw                  100\n",
       "county_name                   100\n",
       "county_fips                   100\n",
       "fine_grained_location         185\n",
       "police_department        13307918\n",
       "driver_gender                 298\n",
       "driver_age_raw           13307918\n",
       "driver_age               13307918\n",
       "driver_race_raw               239\n",
       "driver_race                393615\n",
       "violation_raw                 831\n",
       "violation                     831\n",
       "search_conducted             1672\n",
       "search_type_raw          13064449\n",
       "search_type              13064449\n",
       "contraband_found             1701\n",
       "stop_outcome                    0\n",
       "is_arrested              13307918\n",
       "lat                       2176810\n",
       "lon                       2176381\n",
       "officer_id                    413\n",
       "driver_race_original       809779\n",
       "dtype: int64"
      ]
     },
     "execution_count": 45,
     "metadata": {},
     "output_type": "execute_result"
    }
   ],
   "source": [
    "df_stan.isnull().sum()"
   ]
  },
  {
   "cell_type": "code",
   "execution_count": 46,
   "metadata": {},
   "outputs": [
    {
     "data": {
      "text/plain": [
       "raw_row_number                          0\n",
       "date                                    0\n",
       "time                                    0\n",
       "location                               91\n",
       "lat                               8152359\n",
       "lng                               8152288\n",
       "county_name                            99\n",
       "district                             9161\n",
       "precinct                         12569006\n",
       "region                                  0\n",
       "subject_race                          236\n",
       "subject_sex                           251\n",
       "officer_id_hash                       250\n",
       "type                                    1\n",
       "violation                            1426\n",
       "citation_issued                         1\n",
       "warning_issued                          1\n",
       "outcome                              1426\n",
       "contraband_found                 19295939\n",
       "contraband_drugs                 19295941\n",
       "contraband_weapons               19295946\n",
       "search_conducted                     1673\n",
       "search_vehicle                     442621\n",
       "search_basis                     19295951\n",
       "vehicle_color                    14872995\n",
       "vehicle_make                      7669499\n",
       "vehicle_model                     8966886\n",
       "vehicle_type                         1437\n",
       "vehicle_year                      8921003\n",
       "raw_HA_RACE_SEX                       237\n",
       "raw_HA_SEARCH_PC_boolean             1674\n",
       "raw_HA_SEARCH_CONCENT_boolean        1674\n",
       "raw_HA_INCIDTO_ARREST_boolean        1674\n",
       "raw_HA_VEHICLE_INVENT_boolean        1674\n",
       "dtype: int64"
      ]
     },
     "execution_count": 46,
     "metadata": {},
     "output_type": "execute_result"
    }
   ],
   "source": [
    "df_statewide.isnull().sum()"
   ]
  },
  {
   "cell_type": "code",
   "execution_count": 47,
   "metadata": {},
   "outputs": [
    {
     "data": {
      "text/plain": [
       "(346005868, 671594724)"
      ]
     },
     "execution_count": 47,
     "metadata": {},
     "output_type": "execute_result"
    }
   ],
   "source": [
    "total_stan = np.array(df_stan).size\n",
    "total_state = np.array(df_statewide).size\n",
    "total_stan, total_state"
   ]
  },
  {
   "cell_type": "code",
   "execution_count": 48,
   "metadata": {},
   "outputs": [
    {
     "data": {
      "text/plain": [
       "(84923625, 146953420)"
      ]
     },
     "execution_count": 48,
     "metadata": {},
     "output_type": "execute_result"
    }
   ],
   "source": [
    "# Compare NaN values between the two dataframes\n",
    "NaN_stan = df_stan.isnull().sum().sum() \n",
    "NaN_state = df_statewide.isnull().sum().sum()\n",
    "NaN_stan, NaN_state"
   ]
  },
  {
   "cell_type": "code",
   "execution_count": 49,
   "metadata": {},
   "outputs": [
    {
     "data": {
      "text/plain": [
       "(261082243, 524641304)"
      ]
     },
     "execution_count": 49,
     "metadata": {},
     "output_type": "execute_result"
    }
   ],
   "source": [
    "total_stan - NaN_stan, total_state - NaN_state"
   ]
  }
 ],
 "metadata": {
  "kernelspec": {
   "display_name": "Python 3",
   "language": "python",
   "name": "python3"
  },
  "language_info": {
   "codemirror_mode": {
    "name": "ipython",
    "version": 3
   },
   "file_extension": ".py",
   "mimetype": "text/x-python",
   "name": "python",
   "nbconvert_exporter": "python",
   "pygments_lexer": "ipython3",
   "version": "3.12.0"
  }
 },
 "nbformat": 4,
 "nbformat_minor": 2
}
