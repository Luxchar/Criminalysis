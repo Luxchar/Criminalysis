{
 "cells": [
  {
   "cell_type": "code",
   "execution_count": 1,
   "metadata": {},
   "outputs": [],
   "source": [
    "import pandas as pd\n",
    "import numpy as np\n",
    "import matplotlib.pyplot as plt\n",
    "import seaborn as sns"
   ]
  },
  {
   "cell_type": "code",
   "execution_count": 2,
   "metadata": {},
   "outputs": [
    {
     "name": "stderr",
     "output_type": "stream",
     "text": [
      "C:\\Users\\Theo Boucebaine\\AppData\\Local\\Temp\\ipykernel_22652\\2363198965.py:1: DtypeWarning: Columns (16,19,24) have mixed types. Specify dtype option on import or set low_memory=False.\n",
      "  df = pd.read_csv('./data/TX_2010_onwards.csv')\n"
     ]
    },
    {
     "data": {
      "text/html": [
       "<div>\n",
       "<style scoped>\n",
       "    .dataframe tbody tr th:only-of-type {\n",
       "        vertical-align: middle;\n",
       "    }\n",
       "\n",
       "    .dataframe tbody tr th {\n",
       "        vertical-align: top;\n",
       "    }\n",
       "\n",
       "    .dataframe thead th {\n",
       "        text-align: right;\n",
       "    }\n",
       "</style>\n",
       "<table border=\"1\" class=\"dataframe\">\n",
       "  <thead>\n",
       "    <tr style=\"text-align: right;\">\n",
       "      <th></th>\n",
       "      <th>id</th>\n",
       "      <th>state</th>\n",
       "      <th>stop_date</th>\n",
       "      <th>stop_time</th>\n",
       "      <th>location_raw</th>\n",
       "      <th>county_name</th>\n",
       "      <th>county_fips</th>\n",
       "      <th>fine_grained_location</th>\n",
       "      <th>police_department</th>\n",
       "      <th>driver_gender</th>\n",
       "      <th>...</th>\n",
       "      <th>search_conducted</th>\n",
       "      <th>search_type_raw</th>\n",
       "      <th>search_type</th>\n",
       "      <th>contraband_found</th>\n",
       "      <th>stop_outcome</th>\n",
       "      <th>is_arrested</th>\n",
       "      <th>lat</th>\n",
       "      <th>lon</th>\n",
       "      <th>officer_id</th>\n",
       "      <th>driver_race_original</th>\n",
       "    </tr>\n",
       "  </thead>\n",
       "  <tbody>\n",
       "    <tr>\n",
       "      <th>0</th>\n",
       "      <td>TX-2010-0000002</td>\n",
       "      <td>TX</td>\n",
       "      <td>2010-01-01</td>\n",
       "      <td>00:00</td>\n",
       "      <td>Guadalupe</td>\n",
       "      <td>Guadalupe County</td>\n",
       "      <td>48187.0</td>\n",
       "      <td>622.0</td>\n",
       "      <td>NaN</td>\n",
       "      <td>F</td>\n",
       "      <td>...</td>\n",
       "      <td>False</td>\n",
       "      <td>NaN</td>\n",
       "      <td>NaN</td>\n",
       "      <td>False</td>\n",
       "      <td>Warning</td>\n",
       "      <td>NaN</td>\n",
       "      <td>29.622867</td>\n",
       "      <td>-97.778663</td>\n",
       "      <td>11524</td>\n",
       "      <td>Asian</td>\n",
       "    </tr>\n",
       "    <tr>\n",
       "      <th>1</th>\n",
       "      <td>TX-2010-0000003</td>\n",
       "      <td>TX</td>\n",
       "      <td>2010-01-01</td>\n",
       "      <td>00:00</td>\n",
       "      <td>Fannin</td>\n",
       "      <td>Fannin County</td>\n",
       "      <td>48147.0</td>\n",
       "      <td>668.0</td>\n",
       "      <td>NaN</td>\n",
       "      <td>F</td>\n",
       "      <td>...</td>\n",
       "      <td>False</td>\n",
       "      <td>NaN</td>\n",
       "      <td>NaN</td>\n",
       "      <td>False</td>\n",
       "      <td>Warning</td>\n",
       "      <td>NaN</td>\n",
       "      <td>33.603183</td>\n",
       "      <td>-96.150215</td>\n",
       "      <td>12274</td>\n",
       "      <td>White</td>\n",
       "    </tr>\n",
       "    <tr>\n",
       "      <th>2</th>\n",
       "      <td>TX-2010-0000004</td>\n",
       "      <td>TX</td>\n",
       "      <td>2010-01-01</td>\n",
       "      <td>00:00</td>\n",
       "      <td>Coryell</td>\n",
       "      <td>Coryell County</td>\n",
       "      <td>48099.0</td>\n",
       "      <td>560.0</td>\n",
       "      <td>NaN</td>\n",
       "      <td>M</td>\n",
       "      <td>...</td>\n",
       "      <td>False</td>\n",
       "      <td>NaN</td>\n",
       "      <td>NaN</td>\n",
       "      <td>False</td>\n",
       "      <td>Citation</td>\n",
       "      <td>NaN</td>\n",
       "      <td>31.121599</td>\n",
       "      <td>-97.835418</td>\n",
       "      <td>12365</td>\n",
       "      <td>Black</td>\n",
       "    </tr>\n",
       "    <tr>\n",
       "      <th>3</th>\n",
       "      <td>TX-2010-0000005</td>\n",
       "      <td>TX</td>\n",
       "      <td>2010-01-01</td>\n",
       "      <td>00:00</td>\n",
       "      <td>Dallas</td>\n",
       "      <td>Dallas County</td>\n",
       "      <td>48113.0</td>\n",
       "      <td>464.0</td>\n",
       "      <td>NaN</td>\n",
       "      <td>M</td>\n",
       "      <td>...</td>\n",
       "      <td>False</td>\n",
       "      <td>NaN</td>\n",
       "      <td>NaN</td>\n",
       "      <td>False</td>\n",
       "      <td>Citation</td>\n",
       "      <td>NaN</td>\n",
       "      <td>NaN</td>\n",
       "      <td>NaN</td>\n",
       "      <td>10795</td>\n",
       "      <td>Black</td>\n",
       "    </tr>\n",
       "    <tr>\n",
       "      <th>4</th>\n",
       "      <td>TX-2010-0000006</td>\n",
       "      <td>TX</td>\n",
       "      <td>2010-01-01</td>\n",
       "      <td>00:00</td>\n",
       "      <td>Denton</td>\n",
       "      <td>Denton County</td>\n",
       "      <td>48121.0</td>\n",
       "      <td>0.0</td>\n",
       "      <td>NaN</td>\n",
       "      <td>M</td>\n",
       "      <td>...</td>\n",
       "      <td>False</td>\n",
       "      <td>NaN</td>\n",
       "      <td>NaN</td>\n",
       "      <td>False</td>\n",
       "      <td>Citation</td>\n",
       "      <td>NaN</td>\n",
       "      <td>NaN</td>\n",
       "      <td>NaN</td>\n",
       "      <td>12571</td>\n",
       "      <td>White</td>\n",
       "    </tr>\n",
       "  </tbody>\n",
       "</table>\n",
       "<p>5 rows × 26 columns</p>\n",
       "</div>"
      ],
      "text/plain": [
       "                id state   stop_date stop_time location_raw       county_name  \\\n",
       "0  TX-2010-0000002    TX  2010-01-01     00:00    Guadalupe  Guadalupe County   \n",
       "1  TX-2010-0000003    TX  2010-01-01     00:00       Fannin     Fannin County   \n",
       "2  TX-2010-0000004    TX  2010-01-01     00:00      Coryell    Coryell County   \n",
       "3  TX-2010-0000005    TX  2010-01-01     00:00       Dallas     Dallas County   \n",
       "4  TX-2010-0000006    TX  2010-01-01     00:00       Denton     Denton County   \n",
       "\n",
       "   county_fips  fine_grained_location  police_department driver_gender  ...  \\\n",
       "0      48187.0                  622.0                NaN             F  ...   \n",
       "1      48147.0                  668.0                NaN             F  ...   \n",
       "2      48099.0                  560.0                NaN             M  ...   \n",
       "3      48113.0                  464.0                NaN             M  ...   \n",
       "4      48121.0                    0.0                NaN             M  ...   \n",
       "\n",
       "   search_conducted  search_type_raw search_type contraband_found  \\\n",
       "0             False              NaN         NaN            False   \n",
       "1             False              NaN         NaN            False   \n",
       "2             False              NaN         NaN            False   \n",
       "3             False              NaN         NaN            False   \n",
       "4             False              NaN         NaN            False   \n",
       "\n",
       "  stop_outcome is_arrested        lat        lon officer_id  \\\n",
       "0      Warning         NaN  29.622867 -97.778663      11524   \n",
       "1      Warning         NaN  33.603183 -96.150215      12274   \n",
       "2     Citation         NaN  31.121599 -97.835418      12365   \n",
       "3     Citation         NaN        NaN        NaN      10795   \n",
       "4     Citation         NaN        NaN        NaN      12571   \n",
       "\n",
       "  driver_race_original  \n",
       "0                Asian  \n",
       "1                White  \n",
       "2                Black  \n",
       "3                Black  \n",
       "4                White  \n",
       "\n",
       "[5 rows x 26 columns]"
      ]
     },
     "execution_count": 2,
     "metadata": {},
     "output_type": "execute_result"
    }
   ],
   "source": [
    "df = pd.read_csv('./data/TX_2010_onwards.csv')\n",
    "df.head()"
   ]
  },
  {
   "cell_type": "code",
   "execution_count": 3,
   "metadata": {},
   "outputs": [
    {
     "data": {
      "text/plain": [
       "id                              0\n",
       "state                           0\n",
       "stop_date                       0\n",
       "stop_time                       0\n",
       "location_raw                  100\n",
       "county_name                   100\n",
       "county_fips                   100\n",
       "fine_grained_location         185\n",
       "police_department        13307918\n",
       "driver_gender                 298\n",
       "driver_age_raw           13307918\n",
       "driver_age               13307918\n",
       "driver_race_raw               239\n",
       "driver_race                393615\n",
       "violation_raw                 831\n",
       "violation                     831\n",
       "search_conducted             1672\n",
       "search_type_raw          13064449\n",
       "search_type              13064449\n",
       "contraband_found             1701\n",
       "stop_outcome                    0\n",
       "is_arrested              13307918\n",
       "lat                       2176810\n",
       "lon                       2176381\n",
       "officer_id                    413\n",
       "driver_race_original       809779\n",
       "dtype: int64"
      ]
     },
     "execution_count": 3,
     "metadata": {},
     "output_type": "execute_result"
    }
   ],
   "source": [
    "# Show NaN values\n",
    "df.isnull().sum()"
   ]
  },
  {
   "cell_type": "code",
   "execution_count": 4,
   "metadata": {},
   "outputs": [
    {
     "data": {
      "text/plain": [
       "13307918"
      ]
     },
     "execution_count": 4,
     "metadata": {},
     "output_type": "execute_result"
    }
   ],
   "source": [
    "# Show total rows\n",
    "df.shape[0]"
   ]
  },
  {
   "cell_type": "markdown",
   "metadata": {},
   "source": [
    "PLOTS"
   ]
  },
  {
   "cell_type": "code",
   "execution_count": 6,
   "metadata": {},
   "outputs": [
    {
     "name": "stderr",
     "output_type": "stream",
     "text": [
      "C:\\Users\\Theo Boucebaine\\AppData\\Local\\Temp\\ipykernel_22652\\2886085642.py:3: FutureWarning: \n",
      "\n",
      "Passing `palette` without assigning `hue` is deprecated and will be removed in v0.14.0. Assign the `x` variable to `hue` and set `legend=False` for the same effect.\n",
      "\n",
      "  ax = sns.countplot(x='driver_gender', data=df, palette='Set2')\n"
     ]
    },
    {
     "data": {
      "text/plain": [
       "Text(0.5, 1.0, 'Distribution of Driver Gender')"
      ]
     },
     "execution_count": 6,
     "metadata": {},
     "output_type": "execute_result"
    },
    {
     "data": {
      "image/png": "[encoded data removed]",
      "text/plain": [
       "<Figure size 800x600 with 1 Axes>"
      ]
     },
     "metadata": {},
     "output_type": "display_data"
    }
   ],
   "source": [
    "sns.set(style=\"whitegrid\")\n",
    "plt.figure(figsize=(8, 6))\n",
    "ax = sns.countplot(x='driver_gender', data=df, palette='Set2')\n",
    "\n",
    "total = len(df)\n",
    "for p in ax.patches:\n",
    "    height = p.get_height()\n",
    "    ax.text(p.get_x() + p.get_width()/2., height + 0.1, f'{height/total:.1%}', ha=\"center\")\n",
    "\n",
    "ax.set_xlabel(\"Gender of Driver\", fontsize=12)\n",
    "ax.set_ylabel(\"Count\", fontsize=12)\n",
    "ax.set_title(\"Distribution of Driver Gender\", fontsize=14)"
   ]
  }
 ],
 "metadata": {
  "kernelspec": {
   "display_name": "Python 3",
   "language": "python",
   "name": "python3"
  },
  "language_info": {
   "codemirror_mode": {
    "name": "ipython",
    "version": 3
   },
   "file_extension": ".py",
   "mimetype": "text/x-python",
   "name": "python",
   "nbconvert_exporter": "python",
   "pygments_lexer": "ipython3",
   "version": "3.12.0"
  }
 },
 "nbformat": 4,
 "nbformat_minor": 2
}
